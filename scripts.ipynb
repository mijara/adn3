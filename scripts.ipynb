{
 "cells": [
  {
   "cell_type": "code",
   "execution_count": 1,
   "metadata": {
    "scrolled": false
   },
   "outputs": [],
   "source": [
    "from flyins.models import *\n",
    "import pandas as pd\n",
    "import matplotlib.pyplot as plt"
   ]
  },
  {
   "cell_type": "code",
   "execution_count": 7,
   "metadata": {},
   "outputs": [],
   "source": [
    "from pylab import rcParams\n",
    "rcParams['figure.figsize'] = 15, 5"
   ]
  },
  {
   "cell_type": "code",
   "execution_count": 3,
   "metadata": {},
   "outputs": [],
   "source": [
    "obj_set = FlyIn.objects.filter(course__year=2018)"
   ]
  },
  {
   "cell_type": "code",
   "execution_count": 8,
   "metadata": {
    "scrolled": true
   },
   "outputs": [
    {
     "name": "stdout",
     "output_type": "stream",
     "text": [
      "Histograma por día-hora ( 195 )\n"
     ]
    },
    {
     "data": {
      "image/png": "[encoded data removed]",
      "text/plain": [
       "<Figure size 1080x360 with 1 Axes>"
      ]
     },
     "metadata": {},
     "output_type": "display_data"
    }
   ],
   "source": [
    "def filter_day_hour(pi):\n",
    "    return pi.create_date.replace(second=0, microsecond=0, minute=0).strftime('%d-%H')\n",
    "\n",
    "print(\"Histograma por día-hora (\", obj_set.count(), \")\")\n",
    "\n",
    "timestamps = list(map(filter_day_hour, obj_set.all()))\n",
    "timestamps = sorted(timestamps)\n",
    "plt.hist(timestamps)\n",
    "plt.show()"
   ]
  },
  {
   "cell_type": "markdown",
   "metadata": {},
   "source": [
    "# Histograma por Cursos"
   ]
  },
  {
   "cell_type": "code",
   "execution_count": 5,
   "metadata": {
    "scrolled": false
   },
   "outputs": [
    {
     "name": "stdout",
     "output_type": "stream",
     "text": [
      "Histograma por cursos ( 195 )\n"
     ]
    },
    {
     "data": {
      "image/png": "[encoded data removed]",
      "text/plain": [
       "<Figure size 432x288 with 1 Axes>"
      ]
     },
     "metadata": {},
     "output_type": "display_data"
    }
   ],
   "source": [
    "CAMPUS_CODES = {\"Casa Central\": \"CC\", \"San Joaquín\": \"SJ\", \"Vitacura\": \"V\"}\n",
    "\n",
    "def filter_course_name(p):\n",
    "    return \"%s %s\" % (CAMPUS_CODES[p.course.campus.name], p.course.name.replace(\" \", \"\").replace(\"-\", \"\"))\n",
    "\n",
    "print(\"Histograma por cursos (\", obj_set.count(), \")\")\n",
    "\n",
    "courses = sorted(list(map(filter_course_name, obj_set.all())))\n",
    "plt.hist(courses)\n",
    "plt.show()"
   ]
  },
  {
   "cell_type": "markdown",
   "metadata": {},
   "source": [
    "# Detección de repetidos\n",
    "\n",
    "Se detectan estudiantes que ingresaron dos o más veces la misma pre-inscripción."
   ]
  },
  {
   "cell_type": "code",
   "execution_count": 18,
   "metadata": {
    "scrolled": false
   },
   "outputs": [
    {
     "data": {
      "text/html": [
       "<table border=\"1\" class=\"dataframe\">\n",
       "  <thead>\n",
       "    <tr style=\"text-align: right;\">\n",
       "      <th></th>\n",
       "      <th>field</th>\n",
       "      <th>value1</th>\n",
       "      <th>value2</th>\n",
       "      <th>equality</th>\n",
       "    </tr>\n",
       "  </thead>\n",
       "  <tbody>\n",
       "    <tr>\n",
       "      <th>0</th>\n",
       "      <td>id</td>\n",
       "      <td>1144</td>\n",
       "      <td>1151</td>\n",
       "      <td>False</td>\n",
       "    </tr>\n",
       "    <tr>\n",
       "      <th>1</th>\n",
       "      <td>course</td>\n",
       "      <td>MAT 021 - Casa Central 2018-1</td>\n",
       "      <td>MAT 021 - Casa Central 2018-1</td>\n",
       "      <td>True</td>\n",
       "    </tr>\n",
       "    <tr>\n",
       "      <th>2</th>\n",
       "      <td>software</td>\n",
       "      <td>Mathematica</td>\n",
       "      <td>Mathematica</td>\n",
       "      <td>True</td>\n",
       "    </tr>\n",
       "    <tr>\n",
       "      <th>3</th>\n",
       "      <td>first_name</td>\n",
       "      <td>Bruno</td>\n",
       "      <td>Bruno</td>\n",
       "      <td>True</td>\n",
       "    </tr>\n",
       "    <tr>\n",
       "      <th>4</th>\n",
       "      <td>last_names</td>\n",
       "      <td>Navarrete</td>\n",
       "      <td>Navarrete</td>\n",
       "      <td>True</td>\n",
       "    </tr>\n",
       "    <tr>\n",
       "      <th>5</th>\n",
       "      <td>rol</td>\n",
       "      <td>201821010-2</td>\n",
       "      <td>201821010-2</td>\n",
       "      <td>True</td>\n",
       "    </tr>\n",
       "    <tr>\n",
       "      <th>6</th>\n",
       "      <td>usm_priority</td>\n",
       "      <td>0</td>\n",
       "      <td>0</td>\n",
       "      <td>True</td>\n",
       "    </tr>\n",
       "    <tr>\n",
       "      <th>7</th>\n",
       "      <td>parallel</td>\n",
       "      <td>15</td>\n",
       "      <td>15</td>\n",
       "      <td>True</td>\n",
       "    </tr>\n",
       "    <tr>\n",
       "      <th>8</th>\n",
       "      <td>previous_experience</td>\n",
       "      <td>False</td>\n",
       "      <td>False</td>\n",
       "      <td>True</td>\n",
       "    </tr>\n",
       "    <tr>\n",
       "      <th>9</th>\n",
       "      <td>create_date</td>\n",
       "      <td>2018-03-06 16:56:07.773273+00:00</td>\n",
       "      <td>2018-03-06 18:31:28.777337+00:00</td>\n",
       "      <td>False</td>\n",
       "    </tr>\n",
       "    <tr>\n",
       "      <th>10</th>\n",
       "      <td>secret</td>\n",
       "      <td>76891f42-a89d-441d-a1a8-6c693105e521</td>\n",
       "      <td>1194e011-39f6-4d26-a7d6-e01ff8bc73b5</td>\n",
       "      <td>False</td>\n",
       "    </tr>\n",
       "    <tr>\n",
       "      <th>11</th>\n",
       "      <td>seen</td>\n",
       "      <td>True</td>\n",
       "      <td>False</td>\n",
       "      <td>False</td>\n",
       "    </tr>\n",
       "    <tr>\n",
       "      <th>12</th>\n",
       "      <td>first_preference</td>\n",
       "      <td>3-2</td>\n",
       "      <td>3-3</td>\n",
       "      <td>False</td>\n",
       "    </tr>\n",
       "    <tr>\n",
       "      <th>13</th>\n",
       "      <td>second_preference</td>\n",
       "      <td>1-3</td>\n",
       "      <td>1-4</td>\n",
       "      <td>False</td>\n",
       "    </tr>\n",
       "    <tr>\n",
       "      <th>14</th>\n",
       "      <td>third_preference</td>\n",
       "      <td>3-3</td>\n",
       "      <td>None</td>\n",
       "      <td>False</td>\n",
       "    </tr>\n",
       "    <tr>\n",
       "      <th>15</th>\n",
       "      <td>fourth_preference</td>\n",
       "      <td>None</td>\n",
       "      <td>None</td>\n",
       "      <td>True</td>\n",
       "    </tr>\n",
       "    <tr>\n",
       "      <th>16</th>\n",
       "      <td>fifth_preference</td>\n",
       "      <td>None</td>\n",
       "      <td>None</td>\n",
       "      <td>True</td>\n",
       "    </tr>\n",
       "  </tbody>\n",
       "</table>"
      ],
      "text/plain": [
       "<IPython.core.display.HTML object>"
      ]
     },
     "metadata": {},
     "output_type": "display_data"
    },
    {
     "data": {
      "text/html": [
       "<table border=\"1\" class=\"dataframe\">\n",
       "  <thead>\n",
       "    <tr style=\"text-align: right;\">\n",
       "      <th></th>\n",
       "      <th>field</th>\n",
       "      <th>value1</th>\n",
       "      <th>value2</th>\n",
       "      <th>equality</th>\n",
       "    </tr>\n",
       "  </thead>\n",
       "  <tbody>\n",
       "    <tr>\n",
       "      <th>0</th>\n",
       "      <td>id</td>\n",
       "      <td>1221</td>\n",
       "      <td>1233</td>\n",
       "      <td>False</td>\n",
       "    </tr>\n",
       "    <tr>\n",
       "      <th>1</th>\n",
       "      <td>course</td>\n",
       "      <td>MAT 021 - Casa Central 2018-1</td>\n",
       "      <td>MAT 021 - Casa Central 2018-1</td>\n",
       "      <td>True</td>\n",
       "    </tr>\n",
       "    <tr>\n",
       "      <th>2</th>\n",
       "      <td>software</td>\n",
       "      <td>Mathematica</td>\n",
       "      <td>Mathematica</td>\n",
       "      <td>True</td>\n",
       "    </tr>\n",
       "    <tr>\n",
       "      <th>3</th>\n",
       "      <td>first_name</td>\n",
       "      <td>Sofía</td>\n",
       "      <td>Sofía</td>\n",
       "      <td>True</td>\n",
       "    </tr>\n",
       "    <tr>\n",
       "      <th>4</th>\n",
       "      <td>last_names</td>\n",
       "      <td>Tapia Quiroz</td>\n",
       "      <td>Tapia Quiroz</td>\n",
       "      <td>True</td>\n",
       "    </tr>\n",
       "    <tr>\n",
       "      <th>5</th>\n",
       "      <td>rol</td>\n",
       "      <td>201851007-6</td>\n",
       "      <td>201851007-6</td>\n",
       "      <td>True</td>\n",
       "    </tr>\n",
       "    <tr>\n",
       "      <th>6</th>\n",
       "      <td>usm_priority</td>\n",
       "      <td>664</td>\n",
       "      <td>664</td>\n",
       "      <td>True</td>\n",
       "    </tr>\n",
       "    <tr>\n",
       "      <th>7</th>\n",
       "      <td>parallel</td>\n",
       "      <td>8</td>\n",
       "      <td>8</td>\n",
       "      <td>True</td>\n",
       "    </tr>\n",
       "    <tr>\n",
       "      <th>8</th>\n",
       "      <td>previous_experience</td>\n",
       "      <td>False</td>\n",
       "      <td>False</td>\n",
       "      <td>True</td>\n",
       "    </tr>\n",
       "    <tr>\n",
       "      <th>9</th>\n",
       "      <td>create_date</td>\n",
       "      <td>2018-03-06 21:00:39.140217+00:00</td>\n",
       "      <td>2018-03-06 21:06:39.832867+00:00</td>\n",
       "      <td>False</td>\n",
       "    </tr>\n",
       "    <tr>\n",
       "      <th>10</th>\n",
       "      <td>secret</td>\n",
       "      <td>599ebe7c-39da-4ef5-b6c9-af11ccc7f96a</td>\n",
       "      <td>86fc7ba3-c3cc-4adc-ae64-e2bc32f597a8</td>\n",
       "      <td>False</td>\n",
       "    </tr>\n",
       "    <tr>\n",
       "      <th>11</th>\n",
       "      <td>seen</td>\n",
       "      <td>False</td>\n",
       "      <td>False</td>\n",
       "      <td>True</td>\n",
       "    </tr>\n",
       "    <tr>\n",
       "      <th>12</th>\n",
       "      <td>first_preference</td>\n",
       "      <td>3-4</td>\n",
       "      <td>3-4</td>\n",
       "      <td>True</td>\n",
       "    </tr>\n",
       "    <tr>\n",
       "      <th>13</th>\n",
       "      <td>second_preference</td>\n",
       "      <td>1-4</td>\n",
       "      <td>1-4</td>\n",
       "      <td>True</td>\n",
       "    </tr>\n",
       "    <tr>\n",
       "      <th>14</th>\n",
       "      <td>third_preference</td>\n",
       "      <td>2-1</td>\n",
       "      <td>3-1</td>\n",
       "      <td>False</td>\n",
       "    </tr>\n",
       "    <tr>\n",
       "      <th>15</th>\n",
       "      <td>fourth_preference</td>\n",
       "      <td>0-4</td>\n",
       "      <td>2-1</td>\n",
       "      <td>False</td>\n",
       "    </tr>\n",
       "    <tr>\n",
       "      <th>16</th>\n",
       "      <td>fifth_preference</td>\n",
       "      <td>3-1</td>\n",
       "      <td>0-4</td>\n",
       "      <td>False</td>\n",
       "    </tr>\n",
       "  </tbody>\n",
       "</table>"
      ],
      "text/plain": [
       "<IPython.core.display.HTML object>"
      ]
     },
     "metadata": {},
     "output_type": "display_data"
    }
   ],
   "source": [
    "from IPython.display import display, HTML\n",
    "\n",
    "rols = {}\n",
    "\n",
    "def compare_instance(obj1, obj2):\n",
    "    fields = obj1._meta.get_fields()\n",
    "\n",
    "    df = pd.DataFrame()\n",
    "    \n",
    "    df['field'] = [f.name for f in fields]\n",
    "    df['value1'] = [getattr(obj1, f.name) for f in fields]\n",
    "    df['value2'] = [getattr(obj2, f.name) for f in fields]\n",
    "    df['equality'] = [p1 == p2 for p1, p2 in zip(df['value1'], df['value2'])]\n",
    "\n",
    "    display(HTML(df.to_html()))\n",
    "\n",
    "\n",
    "for p in obj_set.all():\n",
    "    fmt = \"%s:%s\" % (p.rol, p.course.pk)\n",
    "\n",
    "    if fmt in rols:\n",
    "        compare_instance(rols[fmt], p)\n",
    "    else:    \n",
    "        rols[fmt] = p"
   ]
  },
  {
   "cell_type": "code",
   "execution_count": null,
   "metadata": {},
   "outputs": [],
   "source": []
  }
 ],
 "metadata": {
  "kernelspec": {
   "display_name": "Django Shell-Plus",
   "language": "python",
   "name": "django_extensions"
  },
  "language_info": {
   "codemirror_mode": {
    "name": "ipython",
    "version": 3
   },
   "file_extension": ".py",
   "mimetype": "text/x-python",
   "name": "python",
   "nbconvert_exporter": "python",
   "pygments_lexer": "ipython3",
   "version": "3.6.2"
  }
 },
 "nbformat": 4,
 "nbformat_minor": 2
}
